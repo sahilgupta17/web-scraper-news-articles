{
 "cells": [
  {
   "cell_type": "code",
   "execution_count": 17,
   "metadata": {},
   "outputs": [],
   "source": [
    "import requests\n",
    "from bs4 import BeautifulSoup\n",
    "import re\n",
    "import dateutil\n",
    "import pandas as pd\n",
    "import time\n",
    "from newspaper import Article"
   ]
  },
  {
   "cell_type": "code",
   "execution_count": 18,
   "metadata": {},
   "outputs": [],
   "source": [
    "ht = \"https://tech.hindustantimes.com/search?text=\"\n",
    "toi = \"https://www.gadgetsnow.com/tech-news\"\n",
    "et = \"\"\n",
    "separator = '%20'"
   ]
  },
  {
   "cell_type": "code",
   "execution_count": 19,
   "metadata": {},
   "outputs": [],
   "source": [
    "keywords = ['5G India']"
   ]
  },
  {
   "cell_type": "code",
   "execution_count": 20,
   "metadata": {},
   "outputs": [],
   "source": [
    "def scrape_page(url):\n",
    "    #For different language newspaper refer above table\n",
    "    article = Article(url, language=\"en\") # en for English\n",
    "  \n",
    "    #To download the article\n",
    "    article.download()\n",
    "  \n",
    "    #To parse the article\n",
    "    article.parse()\n",
    "  \n",
    "    #To perform natural language processing ie..nlp\n",
    "    article.nlp()\n",
    "\n",
    "    data = {\n",
    "        'title': article.title,\n",
    "        'text' : article.text.replace('\\n', \"\").replace(\"\\ '\", \"'\"),\n",
    "        'summary': article.summary.replace('\\n', \"\").replace(\"\\ '\", \"'\"),\n",
    "        'keywords' : [article.keywords]\n",
    "    }\n",
    "    return data;"
   ]
  },
  {
   "cell_type": "code",
   "execution_count": 21,
   "metadata": {},
   "outputs": [],
   "source": [
    "def parse(url):\n",
    "    result = requests.get(url)\n",
    "    time.sleep(3)\n",
    "    assert result.status_code==200\n",
    "    document = BeautifulSoup(result.content, 'lxml')\n",
    "    headings = document.find_all(\"h2\", {\"class\": \"entry__title\"})\n",
    "    for heading in headings:\n",
    "        link = heading.find(\"a\").get('href')\n",
    "        link = \"https://tech.hindustantimes.com\" + link\n",
    "        print(link)\n",
    "        data = scrape_page(link)\n",
    "        time.sleep(3)\n",
    "    return data"
   ]
  },
  {
   "cell_type": "code",
   "execution_count": 22,
   "metadata": {},
   "outputs": [],
   "source": [
    "def get_ht_pages(website_url):\n",
    "    for keyword in keywords:\n",
    "        tokens = keyword.split()\n",
    "        search_url = website_url + str(tokens[0])\n",
    "        tokens.remove(tokens[0])\n",
    "        for token in tokens:\n",
    "            search_url += separator + token\n",
    "        return parse(search_url)  "
   ]
  },
  {
   "cell_type": "code",
   "execution_count": 23,
   "metadata": {
    "scrolled": false
   },
   "outputs": [
    {
     "name": "stdout",
     "output_type": "stream",
     "text": [
      "https://tech.hindustantimes.com/mobile/news/oppo-reno-6-pro-5g-reno-6-5g-smartphones-launched-in-india-today-check-prices-and-specs-71626245787583.html\n",
      "https://tech.hindustantimes.com/mobile/news/in-a-first-xiaomi-to-launch-its-first-redmi-5g-smartphone-in-india-reveals-launch-date-check-price-and-specs-71626096401681.html\n",
      "https://tech.hindustantimes.com/mobile/news/mobile-phones-under-10000-realme-makes-big-revelation-about-what-is-coming-for-indian-smartphone-buyers-71625723456244.html\n",
      "https://tech.hindustantimes.com/mobile/news/teaser-reveals-fast-and-futuristic-xiaomi-redmi-note-10t-5g-smartphone-coming-to-india-via-amazon-71625574301625.html\n",
      "https://tech.hindustantimes.com/mobile/news/oppo-reno-6-pro-5-reno-6-5g-price-launch-date-in-india-july-14-71625134337660.html\n",
      "https://tech.hindustantimes.com/tech/news/nxp-jio-platforms-announce-collaboration-to-enable-expanded-5g-use-cases-in-india-71624974031380.html\n",
      "https://tech.hindustantimes.com/wearables/news/realme-buds-q2-price-rs-2-499-earbuds-tws-sale-date-in-india-june-30-amazon-realmecom-71624966633746.html\n",
      "https://tech.hindustantimes.com/videos/the-ej-tech-show-samsung-galaxy-m32-oneplus-nord-ce-5g-review-bgmi-first-look-71624729449751.html\n",
      "https://tech.hindustantimes.com/photos/realme-smart-tv-in-pics-71624615045128.html\n",
      "https://tech.hindustantimes.com/tech/news/jios-made-in-india-5g-solution-globally-competitive-says-mukesh-ambani-71624542622344.html\n"
     ]
    },
    {
     "data": {
      "text/plain": [
       "{'title': \"Jio's 'Made in India' 5G solution globally competitive, says Mukesh Ambani\",\n",
       " 'text': 'Reliance Jio, together with partners, has tested its 5G solutions in India, successfully demonstrating speeds of over 1 GBPS, and its \\'Made in India\\' solution is \"globally competitive\", RIL Chairman Mukesh Ambani said on Thursday.Ambani also exuded confidence that the company will be the first to launch full-fledged 5G services in the country.Jio\\'s engineers have developed a 100 per cent home-grown and comprehensive 5G solution that is fully cloud native, software defined, and digitally managed.Jio\\'s \\'Made in India\\' solution is complete and globally competitive, Ambani said while speaking at Reliance Industries Ltd\\'s 44th AGM.With its partners, the company has tested the Jio 5G solutions in India and successfully demonstrated speeds well in excess of 1 GBPS.Once proven at India-scale, the company will keenly look at prospect of exporting Jio 5G solutions to other telecom operators globally.The company recently received the necessary regulatory approvals as well as trial spectrum for initiating 5G field-trials.\"As I speak to you, the entire 5G standalone network has been installed in our data centres across the nation and also at our trial sites in Navi Mumbai,\" Ambani said.\"We are confident of being the first to launch full-fledged 5G services.\"Backed by converged, future-proof architecture, Jio\\'s network is uniquely positioned to quickly and seamlessly upgrade from 4G to 5G, he pointed out.To build end-to-end 5G ecosystem, the company is working with leading global partners to develop a full range of 5G-capable devices.The Jio 5G technology is strongly positioned to create \"compelling applications\" for consumers and enterprises spanning healthcare, education, entertainment, retail and other verticals, he said.Jio will use Google Cloud\\'s technologies to power its 5G solutions and for powering the internal needs of key Reliance growth businesses like Reliance Retail, JioMart, JioSaavn and JioHealth.He further said the initial set of integrations between WhatsApp and JioMart have been launched on a trial basis, and response from customers has been \"encouraging\".\"Our joint teams are actively developing the full new commerce solution linking merchants and consumers, and we plan to progressively launch these over the next few quarters,\" Ambani said.With Microsoft, the company has operationalised an initial 10 MW capacity of Jio-Azure Cloud Data centres in two cities -- Jamnagar and Nagpur.It is currently onboarding the initial group of pilot customers and plans to expand data centre capacity and offerings to a growing number of SMEs and startups over the coming quarters.He admitted that JioFiber, the fixed broadband services, has faced challenges as the pace of optical fiber deployment, building-connectivity and home-installations have been slower than expected because of lockdowns and other restrictions across the country.Despite this, JioFiber has acquired more than 2 million new premises over the past year.\"Now, with a cumulative base of 3 million active home and business users, JioFiber has become the largest and the fastest growing fixed broadband operator in India,\" he said.RIL\\'s tech venture Jio has infused over USD 50 billion investment since its inception to create the largest and advanced digital and connectivity ecosystem in India, with a wide bouquet of apps and platforms.Jio Platforms -- that houses India\\'s youngest but largest telecom firm Jio and apps -- had raised about ₹1,52,056 crore from marquee investors, including Facebook, Google, Silver Lake, Vista Equity Partners, General Atlantic, KKR, Mubadala, ADIA, TPG, L Catterton, Public Investment Fund of Saudi Arabia, Intel Capital and Qualcomm Ventures, for a total 32.9 per cent stake.',\n",
       " 'summary': 'Reliance Jio, together with partners, has tested its 5G solutions in India, successfully demonstrating speeds of over 1 GBPS, and its \\'Made in India\\' solution is \"globally competitive\", RIL Chairman Mukesh Ambani said on Thursday.Jio\\'s engineers have developed a 100 per cent home-grown and comprehensive 5G solution that is fully cloud native, software defined, and digitally managed.Jio\\'s \\'Made in India\\' solution is complete and globally competitive, Ambani said while speaking at Reliance Industries Ltd\\'s 44th AGM.With its partners, the company has tested the Jio 5G solutions in India and successfully demonstrated speeds well in excess of 1 GBPS.Once proven at India-scale, the company will keenly look at prospect of exporting Jio 5G solutions to other telecom operators globally.',\n",
       " 'keywords': [['india',\n",
       "   'competitive',\n",
       "   'solutions',\n",
       "   'trial',\n",
       "   '5g',\n",
       "   'company',\n",
       "   'jios',\n",
       "   'reliance',\n",
       "   'globally',\n",
       "   'partners',\n",
       "   'ambani',\n",
       "   'mukesh',\n",
       "   'jio',\n",
       "   'solution']]}"
      ]
     },
     "execution_count": 23,
     "metadata": {},
     "output_type": "execute_result"
    }
   ],
   "source": [
    "data = get_ht_pages(ht)\n",
    "data"
   ]
  },
  {
   "cell_type": "code",
   "execution_count": 24,
   "metadata": {},
   "outputs": [
    {
     "data": {
      "text/html": [
       "<div>\n",
       "<style scoped>\n",
       "    .dataframe tbody tr th:only-of-type {\n",
       "        vertical-align: middle;\n",
       "    }\n",
       "\n",
       "    .dataframe tbody tr th {\n",
       "        vertical-align: top;\n",
       "    }\n",
       "\n",
       "    .dataframe thead th {\n",
       "        text-align: right;\n",
       "    }\n",
       "</style>\n",
       "<table border=\"1\" class=\"dataframe\">\n",
       "  <thead>\n",
       "    <tr style=\"text-align: right;\">\n",
       "      <th></th>\n",
       "      <th>title</th>\n",
       "      <th>text</th>\n",
       "      <th>summary</th>\n",
       "      <th>keywords</th>\n",
       "    </tr>\n",
       "  </thead>\n",
       "  <tbody>\n",
       "    <tr>\n",
       "      <th>0</th>\n",
       "      <td>Jio's 'Made in India' 5G solution globally com...</td>\n",
       "      <td>Reliance Jio, together with partners, has test...</td>\n",
       "      <td>Reliance Jio, together with partners, has test...</td>\n",
       "      <td>[india, competitive, solutions, trial, 5g, com...</td>\n",
       "    </tr>\n",
       "  </tbody>\n",
       "</table>\n",
       "</div>"
      ],
      "text/plain": [
       "                                               title  \\\n",
       "0  Jio's 'Made in India' 5G solution globally com...   \n",
       "\n",
       "                                                text  \\\n",
       "0  Reliance Jio, together with partners, has test...   \n",
       "\n",
       "                                             summary  \\\n",
       "0  Reliance Jio, together with partners, has test...   \n",
       "\n",
       "                                            keywords  \n",
       "0  [india, competitive, solutions, trial, 5g, com...  "
      ]
     },
     "execution_count": 24,
     "metadata": {},
     "output_type": "execute_result"
    }
   ],
   "source": [
    "df = pd.DataFrame.from_dict(data)\n",
    "df"
   ]
  },
  {
   "cell_type": "code",
   "execution_count": null,
   "metadata": {},
   "outputs": [],
   "source": []
  }
 ],
 "metadata": {
  "kernelspec": {
   "display_name": "Python 3",
   "language": "python",
   "name": "python3"
  },
  "language_info": {
   "codemirror_mode": {
    "name": "ipython",
    "version": 3
   },
   "file_extension": ".py",
   "mimetype": "text/x-python",
   "name": "python",
   "nbconvert_exporter": "python",
   "pygments_lexer": "ipython3",
   "version": "3.8.5"
  }
 },
 "nbformat": 4,
 "nbformat_minor": 4
}
